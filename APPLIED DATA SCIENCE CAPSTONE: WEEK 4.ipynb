{
    "cells": [
        {
            "cell_type": "markdown",
            "metadata": {},
            "source": "# APPLIED DATA SCIENCE CAPSTONE COURSE-WEEK 4"
        },
        {
            "cell_type": "markdown",
            "metadata": {},
            "source": "# Peer-graded Assignment: Capstone Project - The Battle of Neighborhoods"
        },
        {
            "cell_type": "markdown",
            "metadata": {},
            "source": "Now that you have been equipped with the skills and the tools to use location data to explore a geographical location, over the course of two weeks, you will have the opportunity to be as creative as you want and come up with an idea to leverage the Foursquare location data to explore or compare neighborhoods or cities of your choice or to come up with a problem that you can use the Foursquare location data to solve.\n\nClearly define a problem or an idea of your choice, where you would need to leverage the Foursquare location data to solve or execute. Remember that data science problems always target an audience and are meant to help a group of stakeholders solve a problem, so make sure that you explicitly describe your audience and why they would care about your problem.\n\nThis submission will eventually become your Introduction/Business Problem section in your final report. So I recommend that you push the report (having your Introduction/Business Problem section only for now) to your Github repository and submit a link to it.\n\n"
        },
        {
            "cell_type": "markdown",
            "metadata": {},
            "source": "# 1) Introduction/Business Problem\nClearly define a problem or an idea of your choice, where you would need to leverage the Foursquare location data to solve or execute. Remember that data science problems always target an audience and are meant to help a group of stakeholders solve a problem, so make sure that you explicitly describe your audience and why they would care about your problem.\n\n# A.) Primary Business issue\n\nIn order to explore the restaurant information. We will have the need to use some information about the Localities in New York City And Toronto. We must be sure that the place where the restaurant joint is opened will have enough customers and also that there aren't a large amount of restaurant joints in the place. For this reason, we need to analyze different scenarios in the area to make sure that the restaurant will be successful in the area. We are going to try to avoid others restaurant Joint in the area and we are looking for a area where there are:\n\n1.) different district school information\n2.) restaurant information\n3.)For this project we are mainly concerned with the area around two cities to setup a restaurant Joint to ensure maximum profitability for new business."
        },
        {
            "cell_type": "markdown",
            "metadata": {},
            "source": "# 2) Downloading and Prepping Data\nDescribe the data that you will be using to solve the problem or execute your idea. Remember that you will need to use the Foursquare location data to solve the problem or execute your idea. You can absolutely use other datasets in combination with the Foursquare location data. So make sure that you provide adequate explanation and discussion, with examples, of the data that you will be using, even if it is only Foursquare location data.\n\nThis submission will eventually become your Data section in your final report. So I recommend that you push the report (having your Data section) to your Github repository and submit a link to it.\n\n------\n# A.) Preliminary data section\n\nTo choose the restaurant, we will need to access following data:\n\nNeighbourhoods in New York And Toronto\nFrom the table above, we are going to extract the data to build our analysis.\n\nThe coordinates (latitude, longitude) to these Localities of two cities from FourSquare APIs. And we are going to work with this type of maps to identify our venues locations:\n\nFrom Foursquare we will need the following venues data:\n\nschool information\nrestaurant information that we will then leverage the data in order to determine which locality is the most appropriate in order to locate the restaurant joint."
        },
        {
            "cell_type": "markdown",
            "metadata": {},
            "source": "# 3) Methodology\nMethodology section which represents the main component of the report where you discuss and describe any exploratory data analysis that you did, any inferential statistical testing that you performed, and what machine learnings were used and why."
        },
        {
            "cell_type": "markdown",
            "metadata": {},
            "source": "# 4) Results\nResults section where you discuss the results."
        },
        {
            "cell_type": "markdown",
            "metadata": {},
            "source": "# 5) Discussion\nDiscussion section where you discuss any observations you noted and any recommendations you can make based on the results."
        },
        {
            "cell_type": "markdown",
            "metadata": {},
            "source": "# 6) Conclusion\nConclusion section where you conclude the report."
        },
        {
            "cell_type": "code",
            "execution_count": null,
            "metadata": {},
            "outputs": [],
            "source": ""
        },
        {
            "cell_type": "code",
            "execution_count": null,
            "metadata": {},
            "outputs": [],
            "source": ""
        },
        {
            "cell_type": "code",
            "execution_count": null,
            "metadata": {},
            "outputs": [],
            "source": ""
        },
        {
            "cell_type": "code",
            "execution_count": null,
            "metadata": {},
            "outputs": [],
            "source": ""
        },
        {
            "cell_type": "code",
            "execution_count": null,
            "metadata": {},
            "outputs": [],
            "source": ""
        },
        {
            "cell_type": "code",
            "execution_count": null,
            "metadata": {},
            "outputs": [],
            "source": ""
        },
        {
            "cell_type": "code",
            "execution_count": null,
            "metadata": {},
            "outputs": [],
            "source": ""
        },
        {
            "cell_type": "code",
            "execution_count": null,
            "metadata": {},
            "outputs": [],
            "source": ""
        },
        {
            "cell_type": "code",
            "execution_count": null,
            "metadata": {},
            "outputs": [],
            "source": ""
        },
        {
            "cell_type": "code",
            "execution_count": null,
            "metadata": {},
            "outputs": [],
            "source": ""
        },
        {
            "cell_type": "code",
            "execution_count": null,
            "metadata": {},
            "outputs": [],
            "source": ""
        },
        {
            "cell_type": "code",
            "execution_count": null,
            "metadata": {},
            "outputs": [],
            "source": ""
        }
    ],
    "metadata": {
        "kernelspec": {
            "display_name": "Python 3.6",
            "language": "python",
            "name": "python3"
        },
        "language_info": {
            "codemirror_mode": {
                "name": "ipython",
                "version": 3
            },
            "file_extension": ".py",
            "mimetype": "text/x-python",
            "name": "python",
            "nbconvert_exporter": "python",
            "pygments_lexer": "ipython3",
            "version": "3.6.9"
        }
    },
    "nbformat": 4,
    "nbformat_minor": 1
}